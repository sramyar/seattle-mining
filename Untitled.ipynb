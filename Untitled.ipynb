{
 "cells": [
  {
   "cell_type": "code",
   "execution_count": 1,
   "metadata": {},
   "outputs": [],
   "source": [
    "import numpy as np\n",
    "import pandas as pd\n",
    "import matplotlib.pyplot as plt\n",
    "from sklearn.linear_model import LinearRegression\n",
    "from sklearn.model_selection import train_test_split\n",
    "from sklearn.metrics import r2_score, mean_squared_error\n",
    "#import test3 as t\n",
    "#import seaborn as sns\n",
    "%matplotlib inline\n",
    "\n",
    "#reading in the data\n",
    "\n",
    "cal = pd.read_csv('~/Seattle/data/calendar.csv')\n",
    "lis = pd.read_csv('~/Seattle/data/listings.csv')\n",
    "rev = pd.read_csv('~/Seattle/data/reviews.csv')\n",
    "\n"
   ]
  },
  {
   "cell_type": "code",
   "execution_count": 198,
   "metadata": {},
   "outputs": [
    {
     "name": "stdout",
     "output_type": "stream",
     "text": [
      "id\n",
      "listing_url\n",
      "scrape_id\n",
      "last_scraped\n",
      "name\n",
      "summary\n",
      "space\n",
      "description\n",
      "experiences_offered\n",
      "neighborhood_overview\n",
      "notes\n",
      "transit\n",
      "thumbnail_url\n",
      "medium_url\n",
      "picture_url\n",
      "xl_picture_url\n",
      "host_id\n",
      "host_url\n",
      "host_name\n",
      "host_since\n",
      "host_location\n",
      "host_about\n",
      "host_response_time\n",
      "host_response_rate\n",
      "host_acceptance_rate\n",
      "host_is_superhost\n",
      "host_thumbnail_url\n",
      "host_picture_url\n",
      "host_neighbourhood\n",
      "host_listings_count\n",
      "host_total_listings_count\n",
      "host_verifications\n",
      "host_has_profile_pic\n",
      "host_identity_verified\n",
      "street\n",
      "neighbourhood\n",
      "neighbourhood_cleansed\n",
      "neighbourhood_group_cleansed\n",
      "city\n",
      "state\n",
      "zipcode\n",
      "market\n",
      "smart_location\n",
      "country_code\n",
      "country\n",
      "latitude\n",
      "longitude\n",
      "is_location_exact\n",
      "property_type\n",
      "room_type\n",
      "accommodates\n",
      "bathrooms\n",
      "bedrooms\n",
      "beds\n",
      "bed_type\n",
      "amenities\n",
      "square_feet\n",
      "price\n",
      "weekly_price\n",
      "monthly_price\n",
      "security_deposit\n",
      "cleaning_fee\n",
      "guests_included\n",
      "extra_people\n",
      "minimum_nights\n",
      "maximum_nights\n",
      "calendar_updated\n",
      "has_availability\n",
      "availability_30\n",
      "availability_60\n",
      "availability_90\n",
      "availability_365\n",
      "calendar_last_scraped\n",
      "number_of_reviews\n",
      "first_review\n",
      "last_review\n",
      "review_scores_rating\n",
      "review_scores_accuracy\n",
      "review_scores_cleanliness\n",
      "review_scores_checkin\n",
      "review_scores_communication\n",
      "review_scores_location\n",
      "review_scores_value\n",
      "requires_license\n",
      "license\n",
      "jurisdiction_names\n",
      "instant_bookable\n",
      "cancellation_policy\n",
      "require_guest_profile_picture\n",
      "require_guest_phone_verification\n",
      "calculated_host_listings_count\n",
      "reviews_per_month\n"
     ]
    }
   ],
   "source": [
    "# assessing the data\n",
    "#lis.describe()\n",
    "ids = lis['id'].value_counts()\n",
    "for item in lis.columns:\n",
    "    print(item)"
   ]
  },
  {
   "cell_type": "code",
   "execution_count": 199,
   "metadata": {},
   "outputs": [
    {
     "name": "stdout",
     "output_type": "stream",
     "text": [
      "(3818,)\n",
      "(3818, 92)\n",
      "(84849, 6)\n"
     ]
    },
    {
     "data": {
      "text/plain": [
       "<matplotlib.axes._subplots.AxesSubplot at 0x7f1724eed350>"
      ]
     },
     "execution_count": 199,
     "metadata": {},
     "output_type": "execute_result"
    },
    {
     "data": {
      "image/png": "[encoded data removed]",
      "text/plain": [
       "<Figure size 432x288 with 1 Axes>"
      ]
     },
     "metadata": {
      "needs_background": "light"
     },
     "output_type": "display_data"
    }
   ],
   "source": [
    "print(ids.shape)\n",
    "print(lis.shape)\n",
    "print(rev.shape)\n",
    "host_ids = lis.host_id.value_counts()\n",
    "host_ids.plot(kind=\"bar\")"
   ]
  },
  {
   "cell_type": "raw",
   "metadata": {},
   "source": []
  },
  {
   "cell_type": "code",
   "execution_count": 201,
   "metadata": {},
   "outputs": [
    {
     "name": "stdout",
     "output_type": "stream",
     "text": [
      "space                          0.149031\n",
      "neighborhood_overview          0.270299\n",
      "notes                          0.420639\n",
      "transit                        0.244631\n",
      "host_about                     0.224987\n",
      "host_response_time             0.136983\n",
      "host_response_rate             0.136983\n",
      "host_acceptance_rate           0.202462\n",
      "neighbourhood                  0.108958\n",
      "square_feet                    0.974594\n",
      "weekly_price                   0.473808\n",
      "monthly_price                  0.602672\n",
      "security_deposit               0.511262\n",
      "cleaning_fee                   0.269775\n",
      "first_review                   0.164222\n",
      "last_review                    0.164222\n",
      "review_scores_rating           0.169460\n",
      "review_scores_accuracy         0.172342\n",
      "review_scores_cleanliness      0.171032\n",
      "review_scores_checkin          0.172342\n",
      "review_scores_communication    0.170508\n",
      "review_scores_location         0.171556\n",
      "review_scores_value            0.171818\n",
      "license                        1.000000\n",
      "reviews_per_month              0.164222\n",
      "dtype: float64\n"
     ]
    },
    {
     "data": {
      "text/plain": [
       "Capitol Hill                 351\n",
       "Ballard                      213\n",
       "Belltown                     204\n",
       "Minor                        192\n",
       "Queen Anne                   187\n",
       "Fremont                      148\n",
       "Wallingford                  143\n",
       "University District          107\n",
       "First Hill                   105\n",
       "Stevens                       98\n",
       "North Beacon Hill             95\n",
       "Lower Queen Anne              83\n",
       "Central Business District     81\n",
       "Greenwood                     79\n",
       "Columbia City                 61\n",
       "Ravenna                       59\n",
       "Phinney Ridge                 56\n",
       "Magnolia                      55\n",
       "Green Lake                    52\n",
       "Atlantic                      50\n",
       "North Admiral                 48\n",
       "Mount Baker                   46\n",
       "Leschi                        44\n",
       "Eastlake                      41\n",
       "Maple Leaf                    41\n",
       "Madrona                       40\n",
       "Pike Place Market             39\n",
       "The Junction                  36\n",
       "Bryant                        32\n",
       "Seward Park                   32\n",
       "Genesee                       29\n",
       "Roosevelt                     27\n",
       "North Delridge                27\n",
       "Alki                          23\n",
       "South Lake Union              21\n",
       "Crown Hill                    21\n",
       "Montlake                      19\n",
       "Rainier Beach                 18\n",
       "Gatewood                      18\n",
       "Mathews Beach                 17\n",
       "International District        17\n",
       "Madison Park                  16\n",
       "Broadview                     16\n",
       "Wedgewood                     15\n",
       "Haller Lake                   14\n",
       "Pioneer Square                14\n",
       "Portage Bay                   14\n",
       "Victory Heights               13\n",
       "Dunlap                        13\n",
       "Bitter Lake                   13\n",
       "Harrison/Denny-Blaine         13\n",
       "Licton Springs                12\n",
       "Yesler Terrace                12\n",
       "Westlake                      12\n",
       "Highland Park                 12\n",
       "Olympic Hills                 12\n",
       "North Beach/Blue Ridge        11\n",
       "High Point                    11\n",
       "Name: neighbourhood, dtype: int64"
      ]
     },
     "execution_count": 201,
     "metadata": {},
     "output_type": "execute_result"
    }
   ],
   "source": [
    "# assessing missing data\n",
    "\n",
    "nlis = lis.isnull()\n",
    "nlis = nlis.mean()\n",
    "#nlis = pd.Series(nlis)\n",
    "print(nlis[nlis > 0.10])\n",
    "#lis.host_id.plot.hist(bins=len(lis.host_id.value_counts()))\n",
    "ns = lis.neighbourhood.value_counts()\n",
    "ns [ns > 10]\n"
   ]
  },
  {
   "cell_type": "code",
   "execution_count": 149,
   "metadata": {},
   "outputs": [
    {
     "name": "stdout",
     "output_type": "stream",
     "text": [
      "0.5138154027042916\n"
     ]
    },
    {
     "data": {
      "text/plain": [
       "0.27029858564693554"
      ]
     },
     "execution_count": 149,
     "metadata": {},
     "output_type": "execute_result"
    }
   ],
   "source": [
    "print(ns[0:10].sum()/ns.sum())\n",
    "lis.neighborhood_overview.isnull().mean()"
   ]
  },
  {
   "cell_type": "code",
   "execution_count": 10,
   "metadata": {},
   "outputs": [
    {
     "data": {
      "text/plain": [
       "KMeans(algorithm='auto', copy_x=True, init='k-means++', max_iter=100,\n",
       "       n_clusters=5, n_init=1, n_jobs=None, precompute_distances='auto',\n",
       "       random_state=None, tol=0.0001, verbose=0)"
      ]
     },
     "execution_count": 10,
     "metadata": {},
     "output_type": "execute_result"
    }
   ],
   "source": [
    "#clustering the comments\n",
    "\n",
    "from sklearn.feature_extraction.text import TfidfVectorizer\n",
    "from sklearn.cluster import KMeans\n",
    "\n",
    "doc = lis.neighborhood_overview.dropna()\n",
    "\n",
    "vectorizer = TfidfVectorizer(stop_words = 'english')\n",
    "X = vectorizer.fit_transform(doc)\n",
    "\n",
    "k = 5\n",
    "\n",
    "model = KMeans(n_clusters = k, init = 'k-means++', max_iter = 100, n_init = 1)\n",
    "model.fit(X)"
   ]
  },
  {
   "cell_type": "code",
   "execution_count": 11,
   "metadata": {},
   "outputs": [
    {
     "name": "stdout",
     "output_type": "stream",
     "text": [
      "Cluster 0:\n",
      " neighborhood\n",
      " quiet\n",
      " seattle\n",
      " close\n",
      " friendly\n",
      " park\n",
      " safe\n",
      " great\n",
      " city\n",
      " downtown\n",
      " restaurants\n",
      " street\n",
      "Cluster 1:\n",
      " seattle\n",
      " anne\n",
      " queen\n",
      " miles\n",
      " center\n",
      " needle\n",
      " space\n",
      " pike\n",
      " place\n",
      " museum\n",
      " market\n",
      " downtown\n",
      "Cluster 2:\n",
      " ballard\n",
      " restaurants\n",
      " walking\n",
      " distance\n",
      " shops\n",
      " seattle\n",
      " bars\n",
      " neighborhood\n",
      " university\n",
      " great\n",
      " coffee\n",
      " district\n",
      "Cluster 3:\n",
      " away\n",
      " walk\n",
      " blocks\n",
      " park\n",
      " lake\n",
      " minutes\n",
      " minute\n",
      " seattle\n",
      " just\n",
      " downtown\n",
      " restaurants\n",
      " bus\n",
      "Cluster 4:\n",
      " hill\n",
      " capitol\n",
      " seattle\n",
      " downtown\n",
      " neighborhood\n",
      " restaurants\n",
      " bars\n",
      " walk\n",
      " close\n",
      " great\n",
      " nightlife\n",
      " located\n"
     ]
    }
   ],
   "source": [
    "order_centroids = model.cluster_centers_.argsort()[:, ::-1]\n",
    "terms = vectorizer.get_feature_names()\n",
    "\n",
    "for i in range(k):\n",
    " print(\"Cluster %d:\" % i),\n",
    " for ind in order_centroids[i, :12]:\n",
    "     print(' %s' % terms[ind])"
   ]
  },
  {
   "cell_type": "code",
   "execution_count": null,
   "metadata": {},
   "outputs": [],
   "source": [
    "print(cal.date.value_counts().shape)\n",
    "print(cal.shape)"
   ]
  },
  {
   "cell_type": "markdown",
   "metadata": {},
   "source": [
    "avai = 0\n",
    "nava = 0\n",
    "\n",
    "def booler(item):\n",
    "    if item == 't':\n",
    "        return 1\n",
    "    else :\n",
    "        return 0\n",
    "\n",
    "\n",
    "avai/len(cal.available)\n",
    "days = cal.date.value_counts().index\n",
    "\n",
    "a={}\n",
    "\n",
    "\n",
    "for d in days:\n",
    "    a[d] = cal.available[cal.date == d]\n",
    "\n",
    "a['2016-12-28']"
   ]
  },
  {
   "cell_type": "code",
   "execution_count": 214,
   "metadata": {},
   "outputs": [],
   "source": [
    "def ave(s):\n",
    "    t = 0\n",
    "    for item in s:\n",
    "        if item == 't':\n",
    "            t = t + 1\n",
    "    return t/len(s)"
   ]
  },
  {
   "cell_type": "code",
   "execution_count": 215,
   "metadata": {},
   "outputs": [],
   "source": [
    "ap={}\n",
    "for d in days:\n",
    "    ap[d] = ave(a[d])\n",
    "\n",
    "aps = pd.Series(ap)"
   ]
  },
  {
   "cell_type": "code",
   "execution_count": 226,
   "metadata": {},
   "outputs": [
    {
     "data": {
      "text/plain": [
       "<matplotlib.axes._subplots.AxesSubplot at 0x7f171cc6f150>"
      ]
     },
     "execution_count": 226,
     "metadata": {},
     "output_type": "execute_result"
    },
    {
     "data": {
      "image/png": "[encoded data removed]",
      "text/plain": [
       "<Figure size 432x288 with 1 Axes>"
      ]
     },
     "metadata": {
      "needs_background": "light"
     },
     "output_type": "display_data"
    }
   ],
   "source": [
    "aps.sort_values(ascending=True, inplace = True)\n",
    "aps.plot.hist(bins=365)"
   ]
  },
  {
   "cell_type": "code",
   "execution_count": 229,
   "metadata": {},
   "outputs": [
    {
     "data": {
      "text/plain": [
       "<matplotlib.axes._subplots.AxesSubplot at 0x7f171d12b610>"
      ]
     },
     "execution_count": 229,
     "metadata": {},
     "output_type": "execute_result"
    },
    {
     "data": {
      "image/png": "[encoded data removed]",
      "text/plain": [
       "<Figure size 432x288 with 1 Axes>"
      ]
     },
     "metadata": {
      "needs_background": "light"
     },
     "output_type": "display_data"
    }
   ],
   "source": [
    "aps.plot()"
   ]
  },
  {
   "cell_type": "code",
   "execution_count": 74,
   "metadata": {},
   "outputs": [
    {
     "data": {
      "text/plain": [
       "<matplotlib.axes._subplots.AxesSubplot at 0x7f7c65792e50>"
      ]
     },
     "execution_count": 74,
     "metadata": {},
     "output_type": "execute_result"
    },
    {
     "data": {
      "image/png": "[encoded data removed]",
      "text/plain": [
       "<Figure size 432x288 with 1 Axes>"
      ]
     },
     "metadata": {
      "needs_background": "light"
     },
     "output_type": "display_data"
    }
   ],
   "source": [
    "rev.date.value_counts(ascending=True).plot()"
   ]
  },
  {
   "cell_type": "code",
   "execution_count": 12,
   "metadata": {},
   "outputs": [],
   "source": [
    "revd = pd.read_csv('~/Seattle/data/reviews.csv', parse_dates = ['date'])\n"
   ]
  },
  {
   "cell_type": "code",
   "execution_count": 20,
   "metadata": {},
   "outputs": [
    {
     "data": {
      "text/plain": [
       "<matplotlib.axes._subplots.AxesSubplot at 0x7f75867dfa10>"
      ]
     },
     "execution_count": 20,
     "metadata": {},
     "output_type": "execute_result"
    },
    {
     "data": {
      "image/png": "[encoded data removed]",
      "text/plain": [
       "<Figure size 432x288 with 1 Axes>"
      ]
     },
     "metadata": {
      "needs_background": "light"
     },
     "output_type": "display_data"
    }
   ],
   "source": [
    "f = revd.date.value_counts()\n",
    "f.resample('M').mean().plot()"
   ]
  },
  {
   "cell_type": "code",
   "execution_count": 2,
   "metadata": {},
   "outputs": [
    {
     "data": {
      "text/plain": [
       "<matplotlib.axes._subplots.AxesSubplot at 0x7fd6c62e9a90>"
      ]
     },
     "execution_count": 2,
     "metadata": {},
     "output_type": "execute_result"
    },
    {
     "data": {
      "image/png": "[encoded data removed]",
      "text/plain": [
       "<Figure size 432x288 with 1 Axes>"
      ]
     },
     "metadata": {
      "needs_background": "light"
     },
     "output_type": "display_data"
    }
   ],
   "source": [
    "cs = pd.read_csv('~/Seattle/data/calendar.csv', parse_dates = ['date'])\n",
    "cs = cs.set_index('date')\n",
    "noprice = cs [cs.isnull().price == True]\n",
    "noprice.index.value_counts().resample('M').mean().plot()\n"
   ]
  },
  {
   "cell_type": "code",
   "execution_count": 3,
   "metadata": {},
   "outputs": [
    {
     "data": {
      "text/plain": [
       "<matplotlib.axes._subplots.AxesSubplot at 0x7fd6c115f510>"
      ]
     },
     "execution_count": 3,
     "metadata": {},
     "output_type": "execute_result"
    },
    {
     "data": {
      "image/png": "[encoded data removed]",
      "text/plain": [
       "<Figure size 432x288 with 1 Axes>"
      ]
     },
     "metadata": {
      "needs_background": "light"
     },
     "output_type": "display_data"
    }
   ],
   "source": [
    "cs.dropna(subset=['price'], axis = 0, inplace = True)\n",
    "dps = cs.price.replace('[\\$,]','', regex = True).astype(float)\n",
    "dps.resample('M').mean().plot()"
   ]
  },
  {
   "cell_type": "code",
   "execution_count": 14,
   "metadata": {},
   "outputs": [
    {
     "data": {
      "text/html": [
       "<div>\n",
       "<style scoped>\n",
       "    .dataframe tbody tr th:only-of-type {\n",
       "        vertical-align: middle;\n",
       "    }\n",
       "\n",
       "    .dataframe tbody tr th {\n",
       "        vertical-align: top;\n",
       "    }\n",
       "\n",
       "    .dataframe thead th {\n",
       "        text-align: right;\n",
       "    }\n",
       "</style>\n",
       "<table border=\"1\" class=\"dataframe\">\n",
       "  <thead>\n",
       "    <tr style=\"text-align: right;\">\n",
       "      <th></th>\n",
       "      <th>date</th>\n",
       "      <th>available</th>\n",
       "      <th>price</th>\n",
       "    </tr>\n",
       "    <tr>\n",
       "      <th>listing_id</th>\n",
       "      <th></th>\n",
       "      <th></th>\n",
       "      <th></th>\n",
       "    </tr>\n",
       "  </thead>\n",
       "  <tbody>\n",
       "    <tr>\n",
       "      <td>241032</td>\n",
       "      <td>2016-01-04</td>\n",
       "      <td>t</td>\n",
       "      <td>$85.00</td>\n",
       "    </tr>\n",
       "    <tr>\n",
       "      <td>241032</td>\n",
       "      <td>2016-01-05</td>\n",
       "      <td>t</td>\n",
       "      <td>$85.00</td>\n",
       "    </tr>\n",
       "    <tr>\n",
       "      <td>241032</td>\n",
       "      <td>2016-01-06</td>\n",
       "      <td>f</td>\n",
       "      <td>NaN</td>\n",
       "    </tr>\n",
       "    <tr>\n",
       "      <td>241032</td>\n",
       "      <td>2016-01-07</td>\n",
       "      <td>f</td>\n",
       "      <td>NaN</td>\n",
       "    </tr>\n",
       "    <tr>\n",
       "      <td>241032</td>\n",
       "      <td>2016-01-08</td>\n",
       "      <td>f</td>\n",
       "      <td>NaN</td>\n",
       "    </tr>\n",
       "  </tbody>\n",
       "</table>\n",
       "</div>"
      ],
      "text/plain": [
       "                  date available   price\n",
       "listing_id                              \n",
       "241032      2016-01-04         t  $85.00\n",
       "241032      2016-01-05         t  $85.00\n",
       "241032      2016-01-06         f     NaN\n",
       "241032      2016-01-07         f     NaN\n",
       "241032      2016-01-08         f     NaN"
      ]
     },
     "execution_count": 14,
     "metadata": {},
     "output_type": "execute_result"
    }
   ],
   "source": [
    "csid = cal.set_index('listing_id').copy()\n",
    "csid.head()\n",
    "lisd = lis.set_index('id').copy()\n",
    "dps = lisd.price.replace('[\\$,]','', regex = True).astype(float)\n"
   ]
  }
 ],
 "metadata": {
  "kernelspec": {
   "display_name": "Python 3",
   "language": "python",
   "name": "python3"
  },
  "language_info": {
   "codemirror_mode": {
    "name": "ipython",
    "version": 3
   },
   "file_extension": ".py",
   "mimetype": "text/x-python",
   "name": "python",
   "nbconvert_exporter": "python",
   "pygments_lexer": "ipython3",
   "version": "3.7.4"
  }
 },
 "nbformat": 4,
 "nbformat_minor": 2
}
